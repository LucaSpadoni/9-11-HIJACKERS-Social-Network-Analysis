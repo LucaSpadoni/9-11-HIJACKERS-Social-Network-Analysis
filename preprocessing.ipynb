{
  "nbformat": 4,
  "nbformat_minor": 0,
  "metadata": {
    "colab": {
      "provenance": []
    },
    "kernelspec": {
      "name": "python3",
      "display_name": "Python 3"
    },
    "language_info": {
      "name": "python"
    }
  },
  "cells": [
    {
      "cell_type": "markdown",
      "source": [
        "# Social Network Analysis Project - 9/11 Hijackers Dataset\n",
        "\n",
        "#Preprocessing of the dataset"
      ],
      "metadata": {
        "id": "oTR7u1LAH7VO"
      }
    },
    {
      "cell_type": "markdown",
      "source": [
        "## Reading the two datasets\n",
        "\n",
        "We import the two UCINET 9/11 HIJACKERS datasets. One is a 1-mode matrix 61x61 of associates and the other represents which attribute each individual has (Network Strength, Ties and Las Vegas Meeting)."
      ],
      "metadata": {
        "id": "dgSL5jR3HpBA"
      }
    },
    {
      "cell_type": "code",
      "execution_count": null,
      "metadata": {
        "id": "YBKCHi-I0WyW"
      },
      "outputs": [],
      "source": [
        "import pandas as pd\n",
        "import numpy as np\n",
        "\n",
        "pd.set_option('display.max_rows', None)\n",
        "df = pd.read_csv('/content/drive/MyDrive/Università Bolo/9_11_HIJACKERS_ASSOCIATES.csv', index_col=0)\n",
        "df_attr = pd.read_csv('/content/drive/MyDrive/Università Bolo/9_11_HIJACKERS_ATTR.csv', index_col=0)"
      ]
    },
    {
      "cell_type": "markdown",
      "source": [
        "## Combining the two datasets\n",
        "\n",
        "We merge the second dataset (containing the attributes of each individual) to the first one. To do so we add each of the three columns of the second one at the end of the first dataset."
      ],
      "metadata": {
        "id": "FAhp2niwIc04"
      }
    },
    {
      "cell_type": "code",
      "source": [
        "df.insert(len(df), \"Las Vegas Meeting\", df_attr[\"Las Vegas Meeting\"])"
      ],
      "metadata": {
        "id": "9BcY-bW70c53"
      },
      "execution_count": null,
      "outputs": []
    },
    {
      "cell_type": "code",
      "source": [
        "df.insert(len(df), \"Ties\", df_attr[\"Ties\"])"
      ],
      "metadata": {
        "id": "z3Iiyxmi0hlP"
      },
      "execution_count": null,
      "outputs": []
    },
    {
      "cell_type": "code",
      "source": [
        "df.insert(len(df), \"Network Strength\", df_attr[\"Network Strength\"])"
      ],
      "metadata": {
        "id": "e1CXgmnV0h49"
      },
      "execution_count": null,
      "outputs": []
    },
    {
      "cell_type": "markdown",
      "source": [
        "## Cleaning the dataset\n",
        "\n",
        "Since we found that Tarek Maroufi appears twice in both the rows and the columns of the dataset, we decided to drop the second occurence of it."
      ],
      "metadata": {
        "id": "Ci10LAR7K_B2"
      }
    },
    {
      "cell_type": "code",
      "source": [
        "# Dropping one of the two duplicate columns for Tarek Maroufi\n",
        "\n",
        "df.drop(df.columns[[56]], axis=1, inplace=True)"
      ],
      "metadata": {
        "id": "okaFrtA00iGn"
      },
      "execution_count": null,
      "outputs": []
    },
    {
      "cell_type": "code",
      "source": [
        "# Dropping one of the two duplicate rows for Tarek Maroufi\n",
        "\n",
        "df.drop(df.index[[56]], inplace=True)"
      ],
      "metadata": {
        "id": "e_kkj9hu0mNR"
      },
      "execution_count": null,
      "outputs": []
    },
    {
      "cell_type": "code",
      "source": [
        "df.to_csv('/content/drive/MyDrive/Università Bolo/9_11_HIJACKERS_COMPLETE.csv', index=True)"
      ],
      "metadata": {
        "id": "O__Nv1A60n0E"
      },
      "execution_count": null,
      "outputs": []
    }
  ]
}